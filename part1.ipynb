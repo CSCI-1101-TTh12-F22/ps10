{
 "cells": [
  {
   "cell_type": "markdown",
   "metadata": {},
   "source": [
    "# PS10 Part 1: Using jupyter notebooks"
   ]
  },
  {
   "cell_type": "markdown",
   "metadata": {},
   "source": [
    "## 1. Getting started\n",
    "\n",
    "Welcome to your first Jupyter notebook! Double click right on this word **here**. You will see that this is actual a little box full of text. This little box is called a \"cell\". Every cell in this notebook has either Code or Markdown. There's a little dropdown menu right above this that says which kind of content is in each cell. \n",
    "\n",
    "To make this cell look like it did before, hit the Run button from the menu of icons at the top of the page. Depending on your installation of jupyter and your browser, the run button might have the text `Run` or it might just be an icon that looks like a triangle pointing to the right.\n",
    "\n",
    "You can also use the keyboard shortcut <code>shift-return</code>, holding both keys down at the same time."
   ]
  },
  {
   "cell_type": "markdown",
   "metadata": {},
   "source": [
    "In the cell below, where it says <code> In [ ]: </code>, type <code>print(\"Hello, World!\")</code>. Click in the cell below, and then hit the Run button or hold down the `shift` key and type `return`, just as you did above."
   ]
  },
  {
   "cell_type": "code",
   "execution_count": null,
   "metadata": {},
   "outputs": [],
   "source": [
    "# enter your Hello World code here\n",
    "\n"
   ]
  },
  {
   "cell_type": "markdown",
   "metadata": {},
   "source": [
    "Underneath your command you should now see the output <code>Hello, World!</code>. \n",
    "\n",
    "Great! Now you have run your first command in this Jupyter Notebook. You can always go back and edit the stuff you've written in the those code cells. Just remember to re-run it if you change anything. \n",
    "\n",
    "If the notebook seems to not be doing what you want, go up to `Kernel` and select `Restart and Clear Output`. Then run each of the code cells again by selecting the cell and hitting `Run` or `shift-return`."
   ]
  },
  {
   "cell_type": "markdown",
   "metadata": {},
   "source": [
    "## 2. Writing some code\n",
    "\n",
    "Below I've written a function that reads in a file and keeps track of how many times each alphabetic character appears. You will use this function to analyze and visualize the texts in the `text` folder."
   ]
  },
  {
   "cell_type": "code",
   "execution_count": null,
   "metadata": {},
   "outputs": [],
   "source": [
    "def countchars(filename):\n",
    "    \n",
    "    # create an empty dictionary\n",
    "    countdictionary = {}\n",
    "    \n",
    "    # open the file\n",
    "    f = open(filename, encoding=\"utf-8\")\n",
    "    \n",
    "    # for each line in the file...\n",
    "    for line in f:\n",
    "        \n",
    "        # for each character in the line...\n",
    "        for ch in line:\n",
    "            \n",
    "            # if it's an alphabetic character\n",
    "            if ch.isalpha():\n",
    "                \n",
    "                # if the **LOWERCASE** character is already a key in the dictionary, \n",
    "                # add 1 to its value otherwise set its value to 1\n",
    "\n",
    "                countdictionary[ch.lower()] = countdictionary.get(ch.lower(), 0) + 1\n",
    "                \n",
    "\n",
    "    # close the file        \n",
    "    f.close()\n",
    "    \n",
    "    # sort the dictionary by key and produce list of tuples\n",
    "    # where the first element is the character and the second its its frequency\n",
    "\n",
    "    sorteddictionary = sorted(countdictionary.items())\n",
    "    \n",
    "    # return the sorted dictionary\n",
    "    return sorteddictionary"
   ]
  },
  {
   "cell_type": "code",
   "execution_count": null,
   "metadata": {},
   "outputs": [],
   "source": [
    "# Below I am calling this function on the English \"oak\" text in the `texts` directory\n",
    "\n",
    "sorted_en = countchars(\"texts/oak.en\")\n",
    "print(sorted_en)"
   ]
  },
  {
   "cell_type": "markdown",
   "metadata": {},
   "source": [
    "When you run the two cells of code above, you should see output like this:\n",
    "\n",
    "`[('a', 2152), ('b', 314), ('c', 847)` (a bunch of other tuples...) `('ē', 1), ('š', 1), ('ū', 2)]`\n",
    "\n",
    "Now it's your turn! In the cell below, call the function on each of the files in the `texts` directory. **Remember to save out what the function returns as a variable, one variable for each text**. Call the variables `sorted_de`, `sorted_es`, `sorted_fr`."
   ]
  },
  {
   "cell_type": "code",
   "execution_count": null,
   "metadata": {},
   "outputs": [],
   "source": [
    "## YOUR CODE ##\n",
    "# Call the countchars() function on each of the *oak* texts in the `texts` directory.\n",
    "# Then print out what is returned for each text.\n",
    "# Remember to name the variables sorted_de, sorted_es, sorted_fr.\n",
    "\n"
   ]
  },
  {
   "cell_type": "markdown",
   "metadata": {},
   "source": [
    "## 3. Visualizing some data\n",
    "\n",
    "Unfortunately, this list of tuples is not a particularly easy data structure to try to interpret. Let's try graphing each language's letter frequency distribution to see if we can see any differences in the languages. In the cell below, plot the frequencies of each letter in each language. I've provided an example for English. (Note that matplotlib doesn't display the special characters properly.)"
   ]
  },
  {
   "cell_type": "code",
   "execution_count": null,
   "metadata": {},
   "outputs": [],
   "source": [
    "# Note: you might need to run this cell twice to see the plot.\n",
    "\n",
    "import matplotlib.pyplot as plt\n",
    "import numpy as np\n",
    "\n",
    "listvalues = [list(i) for i in sorted_en]\n",
    "frequencies = np.array([int(x[1]) for x in listvalues])\n",
    "labels = [x[0] for x in listvalues]\n",
    "\n",
    "plt.bar(range(1,len(labels)+1), frequencies, tick_label=labels)\n",
    "plt.title(\"English\")\n"
   ]
  },
  {
   "cell_type": "markdown",
   "metadata": {},
   "source": [
    "In the three following cells, plot the distributions for the other three languages. Make sure to give titles to the plots so you can tell which one is which!"
   ]
  },
  {
   "cell_type": "code",
   "execution_count": null,
   "metadata": {},
   "outputs": [],
   "source": [
    "## visualize oak.es\n",
    "\n"
   ]
  },
  {
   "cell_type": "code",
   "execution_count": null,
   "metadata": {},
   "outputs": [],
   "source": [
    "## visualize oak.fr\n",
    "\n"
   ]
  },
  {
   "cell_type": "code",
   "execution_count": null,
   "metadata": {},
   "outputs": [],
   "source": [
    "## visualize oak.de\n",
    "\n"
   ]
  },
  {
   "cell_type": "markdown",
   "metadata": {},
   "source": [
    "## 4. Writing code on your own\n",
    "\n",
    "In the `mystery` folder, there are some mystery language files. Apply the same analysis to each of these file as you did to the `oak` files. "
   ]
  },
  {
   "cell_type": "code",
   "execution_count": null,
   "metadata": {},
   "outputs": [],
   "source": [
    "### Write your code for mystery1.txt\n",
    "\n",
    "\n",
    "\n",
    "\n"
   ]
  },
  {
   "cell_type": "code",
   "execution_count": null,
   "metadata": {},
   "outputs": [],
   "source": [
    "### Write your code for mystery2.txt\n",
    "\n",
    "\n",
    "\n"
   ]
  },
  {
   "cell_type": "markdown",
   "metadata": {},
   "source": [
    "## 5. Interpreting your visualizations\n",
    "\n",
    "Compare the visualizations you created for your mystery files to the visualizations for the `oak` files. In the Markdown cell below, guess which language each mystery file is written in, and explain your reasoning. You can check your answers, of course, but be sure to explain how the visualizations of the letter frequencies helped you make your guess. Please write at least 50 words."
   ]
  },
  {
   "cell_type": "markdown",
   "metadata": {},
   "source": [
    "<font color=\"red\">*Insert your answer to the above question here*</font>"
   ]
  },
  {
   "cell_type": "markdown",
   "metadata": {},
   "source": [
    "### Submit this python notebook in your zip file, as described in the problem set."
   ]
  }
 ],
 "metadata": {
  "kernelspec": {
   "display_name": "Python 3",
   "language": "python",
   "name": "python3"
  },
  "language_info": {
   "codemirror_mode": {
    "name": "ipython",
    "version": 3
   },
   "file_extension": ".py",
   "mimetype": "text/x-python",
   "name": "python",
   "nbconvert_exporter": "python",
   "pygments_lexer": "ipython3",
   "version": "3.9.1"
  }
 },
 "nbformat": 4,
 "nbformat_minor": 2
}
